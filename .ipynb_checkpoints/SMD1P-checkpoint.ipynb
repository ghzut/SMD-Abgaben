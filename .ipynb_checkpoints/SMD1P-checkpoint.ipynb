{
 "cells": [
  {
   "cell_type": "code",
   "execution_count": 4,
   "metadata": {},
   "outputs": [
    {
     "data": {
      "text/plain": [
       "Text(0, 0.5, 'Groesse')"
      ]
     },
     "execution_count": 4,
     "metadata": {},
     "output_type": "execute_result"
    },
    {
     "data": {
      "image/png": "[encoded data removed]",
      "text/plain": [
       "<Figure size 432x288 with 6 Axes>"
      ]
     },
     "metadata": {
      "needs_background": "light"
     },
     "output_type": "display_data"
    }
   ],
   "source": [
    "import numpy as np\n",
    "import matplotlib.pyplot as plt\n",
    "\n",
    "Gewicht,Groesse = np.genfromtxt('Groesse_Gewicht.txt',unpack=True)\n",
    "plt.subplot(321)\n",
    "plt.hist2d(Gewicht,Groesse,bins=5)\n",
    "plt.xlabel('Gewicht')\n",
    "plt.ylabel('Groesse')\n",
    "plt.subplot(322)\n",
    "plt.hist2d(Gewicht,Groesse,bins=10)\n",
    "plt.xlabel('Gewicht')\n",
    "plt.ylabel('Groesse')\n",
    "plt.subplot(323)\n",
    "plt.hist2d(Gewicht,Groesse,bins=15)\n",
    "plt.xlabel('Gewicht')\n",
    "plt.ylabel('Groesse')\n",
    "plt.subplot(324)\n",
    "plt.hist2d(Gewicht,Groesse,bins=20)\n",
    "plt.xlabel('Gewicht')\n",
    "plt.ylabel('Groesse')\n",
    "plt.subplot(325)\n",
    "plt.hist2d(Gewicht,Groesse,bins=30)\n",
    "plt.xlabel('Gewicht')\n",
    "plt.ylabel('Groesse')\n",
    "plt.subplot(326)\n",
    "plt.hist2d(Gewicht,Groesse,bins=50)\n",
    "plt.xlabel('Gewicht')\n",
    "plt.ylabel('Groesse')\n",
    "#Am besten sind 30-50 bins, da bei weniger zu ungenau sind.\n",
    "#Bei größeren Datenmengen sollten je nach Verteilung mehr bins verwendet werden, wobei auch die Größe \n",
    "#des Bereichs berücksichtigt werden muss, in dem sich die Verteilung befindet."
   ]
  },
  {
   "cell_type": "code",
   "execution_count": 7,
   "metadata": {},
   "outputs": [
    {
     "data": {
      "text/plain": [
       "(array([  8.,   7.,   4.,   8.,   5.,   8.,   4.,  10.,   8.,  11.,   5.,\n",
       "         10.,  13.,   9.,  11.,  10.,  10.,   6.,   8.,  10.,  14.,  12.,\n",
       "         12.,  11.,  11.,  16.,  19.,  15.,  18.,  12.,  23.,  16.,  16.,\n",
       "         13.,  13.,  12.,  13.,  16.,  18.,  26.,  19.,  25.,  24.,  32.,\n",
       "         24.,  27.,  36.,  28.,  30.,  34.,  32.,  26.,  32.,  28.,  35.,\n",
       "         34.,  38.,  31.,  31.,  36.,  49.,  30.,  43.,  39.,  44.,  50.,\n",
       "         61.,  36.,  56.,  48.,  66.,  51.,  48.,  60.,  56.,  57.,  45.,\n",
       "         70.,  74.,  71.,  79.,  71.,  74.,  77.,  89.,  79.,  76., 112.,\n",
       "         76.,  68.,  80.,  79.,  92.,  75.,  79.,  94.,  89.,  93., 103.,\n",
       "        119., 118.,  93., 108., 114., 117., 122., 121., 130., 106., 112.,\n",
       "        124., 146., 129., 119., 118., 152., 120., 157., 154., 148., 159.,\n",
       "        155., 170., 181., 151., 154., 159., 191., 185., 177., 193., 169.,\n",
       "        167., 180., 189., 169., 213., 206., 218., 205., 229., 244., 196.,\n",
       "        212., 230., 230., 225., 208., 250., 233., 219., 237., 264., 265.,\n",
       "        246., 256., 273., 249., 310., 272., 299., 278., 320., 303., 282.,\n",
       "        311., 315., 291., 283., 308., 325., 336., 303., 310., 344., 331.,\n",
       "        334., 318., 334., 305., 357., 353., 320., 393., 352., 379., 350.,\n",
       "        382., 364., 394., 357., 388., 393., 394., 391., 383., 375., 371.,\n",
       "        407., 383., 357., 396., 404., 419., 421., 431., 406., 459., 420.,\n",
       "        428., 401., 431., 424., 390., 425., 452., 448., 432., 445., 424.,\n",
       "        470., 449., 448., 469., 426., 441., 462., 497., 474., 474., 467.,\n",
       "        454., 445., 486., 467., 474., 465., 449., 467., 455., 426., 469.,\n",
       "        456., 500., 511., 451., 473., 454., 453., 489., 464., 499., 482.,\n",
       "        463., 472., 476., 458., 479., 482., 481., 459., 465., 512., 469.,\n",
       "        472., 464., 499., 461., 465., 500., 452., 460., 449., 468., 450.,\n",
       "        458., 438., 443., 419., 450., 460., 448., 436., 421., 411., 424.,\n",
       "        427., 415., 431., 420., 422., 440., 400., 390., 383., 383., 376.,\n",
       "        391., 376., 408., 347., 379., 344., 348., 377., 385., 337., 373.,\n",
       "        361., 341., 338., 349., 367., 356., 380., 318., 356., 373., 350.,\n",
       "        353., 349., 323., 321., 307., 291., 326., 295., 306., 329., 288.,\n",
       "        330., 284., 276., 279., 270., 283., 254., 268., 301., 295., 246.,\n",
       "        290., 252., 279., 227., 257., 204., 228., 233., 231., 238., 234.,\n",
       "        211., 211., 220., 198., 190., 190., 208., 201., 205., 185., 190.,\n",
       "        198., 168., 208., 168., 175., 179., 156., 149., 176., 177., 171.,\n",
       "        171., 141., 138., 138., 136., 135., 135., 156., 124., 115., 129.,\n",
       "        117., 115., 135., 121., 115., 120.,  98., 107., 110., 111.,  93.,\n",
       "        116., 107., 102.,  84., 105.,  86.,  79.,  83.,  94.,  70.,  77.,\n",
       "         60.,  58.,  73.,  62.,  64.,  83.,  63.,  71.,  59.,  59.,  53.,\n",
       "         57.,  45.,  71.,  46.,  64.,  48.,  52.,  52.,  62.,  53.,  53.,\n",
       "         43.,  38.,  33.,  33.,  56.,  45.,  40.,  29.,  35.,  31.,  23.,\n",
       "         32.,  35.,  29.,  30.,  29.,  29.,  25.,  23.,  30.,  33.,  33.,\n",
       "         26.,  33.,  23.,  17.,  27.,  26.,  22.,  22.,  19.,  13.,  22.,\n",
       "         20.,  18.,  13.,  11.,  13.,  16.,  17.,  10.,   9.,  15.,  13.,\n",
       "         13.,   8.,  13.,  13.,   3.,  18.,  11.,  11.,   8.,  10.,   6.,\n",
       "          8.,   9.,   4.,   9.,  11.,   9.,   6.,   9.,   6.,   8.,  11.,\n",
       "          5.,   8.,   5.,   4.,   5.]),\n",
       " array([  1.   ,   1.198,   1.396,   1.594,   1.792,   1.99 ,   2.188,\n",
       "          2.386,   2.584,   2.782,   2.98 ,   3.178,   3.376,   3.574,\n",
       "          3.772,   3.97 ,   4.168,   4.366,   4.564,   4.762,   4.96 ,\n",
       "          5.158,   5.356,   5.554,   5.752,   5.95 ,   6.148,   6.346,\n",
       "          6.544,   6.742,   6.94 ,   7.138,   7.336,   7.534,   7.732,\n",
       "          7.93 ,   8.128,   8.326,   8.524,   8.722,   8.92 ,   9.118,\n",
       "          9.316,   9.514,   9.712,   9.91 ,  10.108,  10.306,  10.504,\n",
       "         10.702,  10.9  ,  11.098,  11.296,  11.494,  11.692,  11.89 ,\n",
       "         12.088,  12.286,  12.484,  12.682,  12.88 ,  13.078,  13.276,\n",
       "         13.474,  13.672,  13.87 ,  14.068,  14.266,  14.464,  14.662,\n",
       "         14.86 ,  15.058,  15.256,  15.454,  15.652,  15.85 ,  16.048,\n",
       "         16.246,  16.444,  16.642,  16.84 ,  17.038,  17.236,  17.434,\n",
       "         17.632,  17.83 ,  18.028,  18.226,  18.424,  18.622,  18.82 ,\n",
       "         19.018,  19.216,  19.414,  19.612,  19.81 ,  20.008,  20.206,\n",
       "         20.404,  20.602,  20.8  ,  20.998,  21.196,  21.394,  21.592,\n",
       "         21.79 ,  21.988,  22.186,  22.384,  22.582,  22.78 ,  22.978,\n",
       "         23.176,  23.374,  23.572,  23.77 ,  23.968,  24.166,  24.364,\n",
       "         24.562,  24.76 ,  24.958,  25.156,  25.354,  25.552,  25.75 ,\n",
       "         25.948,  26.146,  26.344,  26.542,  26.74 ,  26.938,  27.136,\n",
       "         27.334,  27.532,  27.73 ,  27.928,  28.126,  28.324,  28.522,\n",
       "         28.72 ,  28.918,  29.116,  29.314,  29.512,  29.71 ,  29.908,\n",
       "         30.106,  30.304,  30.502,  30.7  ,  30.898,  31.096,  31.294,\n",
       "         31.492,  31.69 ,  31.888,  32.086,  32.284,  32.482,  32.68 ,\n",
       "         32.878,  33.076,  33.274,  33.472,  33.67 ,  33.868,  34.066,\n",
       "         34.264,  34.462,  34.66 ,  34.858,  35.056,  35.254,  35.452,\n",
       "         35.65 ,  35.848,  36.046,  36.244,  36.442,  36.64 ,  36.838,\n",
       "         37.036,  37.234,  37.432,  37.63 ,  37.828,  38.026,  38.224,\n",
       "         38.422,  38.62 ,  38.818,  39.016,  39.214,  39.412,  39.61 ,\n",
       "         39.808,  40.006,  40.204,  40.402,  40.6  ,  40.798,  40.996,\n",
       "         41.194,  41.392,  41.59 ,  41.788,  41.986,  42.184,  42.382,\n",
       "         42.58 ,  42.778,  42.976,  43.174,  43.372,  43.57 ,  43.768,\n",
       "         43.966,  44.164,  44.362,  44.56 ,  44.758,  44.956,  45.154,\n",
       "         45.352,  45.55 ,  45.748,  45.946,  46.144,  46.342,  46.54 ,\n",
       "         46.738,  46.936,  47.134,  47.332,  47.53 ,  47.728,  47.926,\n",
       "         48.124,  48.322,  48.52 ,  48.718,  48.916,  49.114,  49.312,\n",
       "         49.51 ,  49.708,  49.906,  50.104,  50.302,  50.5  ,  50.698,\n",
       "         50.896,  51.094,  51.292,  51.49 ,  51.688,  51.886,  52.084,\n",
       "         52.282,  52.48 ,  52.678,  52.876,  53.074,  53.272,  53.47 ,\n",
       "         53.668,  53.866,  54.064,  54.262,  54.46 ,  54.658,  54.856,\n",
       "         55.054,  55.252,  55.45 ,  55.648,  55.846,  56.044,  56.242,\n",
       "         56.44 ,  56.638,  56.836,  57.034,  57.232,  57.43 ,  57.628,\n",
       "         57.826,  58.024,  58.222,  58.42 ,  58.618,  58.816,  59.014,\n",
       "         59.212,  59.41 ,  59.608,  59.806,  60.004,  60.202,  60.4  ,\n",
       "         60.598,  60.796,  60.994,  61.192,  61.39 ,  61.588,  61.786,\n",
       "         61.984,  62.182,  62.38 ,  62.578,  62.776,  62.974,  63.172,\n",
       "         63.37 ,  63.568,  63.766,  63.964,  64.162,  64.36 ,  64.558,\n",
       "         64.756,  64.954,  65.152,  65.35 ,  65.548,  65.746,  65.944,\n",
       "         66.142,  66.34 ,  66.538,  66.736,  66.934,  67.132,  67.33 ,\n",
       "         67.528,  67.726,  67.924,  68.122,  68.32 ,  68.518,  68.716,\n",
       "         68.914,  69.112,  69.31 ,  69.508,  69.706,  69.904,  70.102,\n",
       "         70.3  ,  70.498,  70.696,  70.894,  71.092,  71.29 ,  71.488,\n",
       "         71.686,  71.884,  72.082,  72.28 ,  72.478,  72.676,  72.874,\n",
       "         73.072,  73.27 ,  73.468,  73.666,  73.864,  74.062,  74.26 ,\n",
       "         74.458,  74.656,  74.854,  75.052,  75.25 ,  75.448,  75.646,\n",
       "         75.844,  76.042,  76.24 ,  76.438,  76.636,  76.834,  77.032,\n",
       "         77.23 ,  77.428,  77.626,  77.824,  78.022,  78.22 ,  78.418,\n",
       "         78.616,  78.814,  79.012,  79.21 ,  79.408,  79.606,  79.804,\n",
       "         80.002,  80.2  ,  80.398,  80.596,  80.794,  80.992,  81.19 ,\n",
       "         81.388,  81.586,  81.784,  81.982,  82.18 ,  82.378,  82.576,\n",
       "         82.774,  82.972,  83.17 ,  83.368,  83.566,  83.764,  83.962,\n",
       "         84.16 ,  84.358,  84.556,  84.754,  84.952,  85.15 ,  85.348,\n",
       "         85.546,  85.744,  85.942,  86.14 ,  86.338,  86.536,  86.734,\n",
       "         86.932,  87.13 ,  87.328,  87.526,  87.724,  87.922,  88.12 ,\n",
       "         88.318,  88.516,  88.714,  88.912,  89.11 ,  89.308,  89.506,\n",
       "         89.704,  89.902,  90.1  ,  90.298,  90.496,  90.694,  90.892,\n",
       "         91.09 ,  91.288,  91.486,  91.684,  91.882,  92.08 ,  92.278,\n",
       "         92.476,  92.674,  92.872,  93.07 ,  93.268,  93.466,  93.664,\n",
       "         93.862,  94.06 ,  94.258,  94.456,  94.654,  94.852,  95.05 ,\n",
       "         95.248,  95.446,  95.644,  95.842,  96.04 ,  96.238,  96.436,\n",
       "         96.634,  96.832,  97.03 ,  97.228,  97.426,  97.624,  97.822,\n",
       "         98.02 ,  98.218,  98.416,  98.614,  98.812,  99.01 ,  99.208,\n",
       "         99.406,  99.604,  99.802, 100.   ]),\n",
       " <a list of 500 Patch objects>)"
      ]
     },
     "execution_count": 7,
     "metadata": {},
     "output_type": "execute_result"
    },
    {
     "data": {
      "image/png": "[encoded data removed]",
      "text/plain": [
       "<Figure size 432x288 with 6 Axes>"
      ]
     },
     "metadata": {
      "needs_background": "light"
     },
     "output_type": "display_data"
    }
   ],
   "source": [
    "gauss_random = np.random.normal(50,50/3,10**5)\n",
    "plt.subplot(321)\n",
    "plt.hist(gauss_random,bins=10,range=(1,100))\n",
    "plt.subplot(322)\n",
    "plt.hist(gauss_random,bins=20,range=(1,100))\n",
    "plt.subplot(323)\n",
    "plt.hist(gauss_random,bins=50,range=(1,100))\n",
    "plt.subplot(324)\n",
    "plt.hist(gauss_random,bins=100,range=(1,100))\n",
    "plt.subplot(325)\n",
    "plt.hist(gauss_random,bins=200,range=(1,100))\n",
    "plt.subplot(326)\n",
    "plt.hist(gauss_random,bins=500,range=(1,100))"
   ]
  }
 ],
 "metadata": {
  "kernelspec": {
   "display_name": "Python 3",
   "language": "python",
   "name": "python3"
  },
  "language_info": {
   "codemirror_mode": {
    "name": "ipython",
    "version": 3
   },
   "file_extension": ".py",
   "mimetype": "text/x-python",
   "name": "python",
   "nbconvert_exporter": "python",
   "pygments_lexer": "ipython3",
   "version": "3.7.2"
  }
 },
 "nbformat": 4,
 "nbformat_minor": 2
}
