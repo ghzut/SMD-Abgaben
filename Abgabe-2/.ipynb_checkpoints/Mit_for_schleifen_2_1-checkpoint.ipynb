{
 "cells": [
  {
   "cell_type": "code",
   "execution_count": 13,
   "metadata": {},
   "outputs": [],
   "source": [
    "#Wie geht das ohne for?\n",
    "import numpy as np\n",
    "\n",
    "Wuerfel=np.arange(1,7)\n",
    "def n(N):\n",
    "    return len(Wuerfel)**N\n",
    "N1=2                       #Anzahl der Würfel bei a)-d)\n",
    "N2=1                       #Da bei e)-g) der eine Würfel bereits festliegt\n",
    "n1 = n(N1)                 #Gesamtzahl der Möglichkeiten bei a)-d)\n",
    "n2 = n(N2)                 #Gesamtzahl der Möglichkeiten bei e)-g)\n",
    "a = 0\n",
    "b = 0\n",
    "c = 0\n",
    "d = 0\n",
    "e = 0\n",
    "f = 0\n",
    "g = 0"
   ]
  },
  {
   "cell_type": "code",
   "execution_count": 14,
   "metadata": {},
   "outputs": [
    {
     "name": "stdout",
     "output_type": "stream",
     "text": [
      "Die Wahrscheinlichkeit, dass die Gesamtaugenzahl genau 9 ist, beträgt  4 / 36  =  11.11111111111111 %\n",
      "Die Wahrscheinlichkeit, dass die Gesamtaugenzahl 9 oder mehr ist, beträgt  10 / 36  =  27.77777777777778 %\n",
      "Die Wahrscheinlichkeit, dass der eine Würfel 4 und der andere 5 zeigt, beträgt  2 / 36  =  5.555555555555555 %\n",
      "Die Wahrscheinlichkeit, dass der rote Würfel 4 und der blaue 5 zeigt, beträgt  1 / 36  =  2.7777777777777777 %\n",
      "Die Wahrscheinlichkeit, dass wenn der rote Würfel 4 zeigt die Gesamtaugenzahl genau 9 ist, beträgt  1 / 6  =  16.666666666666664 %\n",
      "Die Wahrscheinlichkeit, dass wenn der rote Würfel 4 zeigt die Gesamtaugenzahl 9 oder mehr ist, beträgt  2 / 6  =  33.33333333333333 %\n",
      "Die Wahrscheinlichkeit, dass wenn der rote Würfel 4 zeigt der blaue 5 zeigt, beträgt  1 / 6  =  16.666666666666664 %\n"
     ]
    }
   ],
   "source": [
    "for i in Wuerfel:\n",
    "    for j in Wuerfel:\n",
    "        if i + j == 9:\n",
    "            a += 1\n",
    "        if i + j >= 9:\n",
    "            b += 1\n",
    "        if (i == 4 and j == 5) or (i == 5 and j == 4):\n",
    "            c += 1\n",
    "        if i == 4 and j == 5:\n",
    "            d += 1\n",
    "            g += 1                   #Ich schreibe doch \n",
    "        if i == 4 and i + j == 9:    #nicht noch mehr\n",
    "            e += 1                   #for Schleifen\n",
    "        if i == 4 and i + j >= 9:    #für\n",
    "            f += 1                   #dasselbe\n",
    "            \n",
    "print(\"Die Wahrscheinlichkeit, dass die Gesamtaugenzahl genau 9 ist, beträgt \", a, \"/\",n1,\" = \",a/n1*100,\"%\")\n",
    "print(\"Die Wahrscheinlichkeit, dass die Gesamtaugenzahl 9 oder mehr ist, beträgt \", b, \"/\",n1,\" = \",b/n1*100,\"%\")\n",
    "print(\"Die Wahrscheinlichkeit, dass der eine Würfel 4 und der andere 5 zeigt, beträgt \", c, \"/\",n1,\" = \",c/n1*100,\"%\")\n",
    "print(\"Die Wahrscheinlichkeit, dass der rote Würfel 4 und der blaue 5 zeigt, beträgt \", d, \"/\",n1,\" = \",d/n1*100,\"%\")\n",
    "print(\"Die Wahrscheinlichkeit, dass, wenn der rote Würfel 4 zeigt, die Gesamtaugenzahl genau 9 ist, beträgt \", e, \"/\",n2,\" = \",e/n2*100,\"%\")\n",
    "print(\"Die Wahrscheinlichkeit, dass, wenn der rote Würfel 4 zeigt, die Gesamtaugenzahl 9 oder mehr ist, beträgt \", f, \"/\",n2,\" = \",f/n2*100,\"%\")\n",
    "print(\"Die Wahrscheinlichkeit, dass, wenn der rote Würfel 4 zeigt, der blaue 5 zeigt, beträgt \", g, \"/\",n2,\" = \",g/n2*100,\"%\")"
   ]
  }
 ],
 "metadata": {
  "kernelspec": {
   "display_name": "Python 3",
   "language": "python",
   "name": "python3"
  },
  "language_info": {
   "codemirror_mode": {
    "name": "ipython",
    "version": 3
   },
   "file_extension": ".py",
   "mimetype": "text/x-python",
   "name": "python",
   "nbconvert_exporter": "python",
   "pygments_lexer": "ipython3",
   "version": "3.7.3"
  }
 },
 "nbformat": 4,
 "nbformat_minor": 2
}
